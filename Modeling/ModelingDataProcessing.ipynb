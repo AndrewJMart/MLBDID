{
 "cells": [
  {
   "cell_type": "code",
   "execution_count": null,
   "id": "ff47833a",
   "metadata": {},
   "outputs": [
    {
     "name": "stdout",
     "output_type": "stream",
     "text": [
      "   cluster  num_extremely_shifted\n",
      "0        0                      2\n",
      "1        1                     36\n",
      "2        2                     61\n"
     ]
    },
    {
     "name": "stderr",
     "output_type": "stream",
     "text": [
      "C:\\Users\\Andrew\\AppData\\Local\\Temp\\ipykernel_8164\\3894287357.py:51: SettingWithCopyWarning: \n",
      "A value is trying to be set on a copy of a slice from a DataFrame.\n",
      "Try using .loc[row_indexer,col_indexer] = value instead\n",
      "\n",
      "See the caveats in the documentation: https://pandas.pydata.org/pandas-docs/stable/user_guide/indexing.html#returning-a-view-versus-a-copy\n",
      "  extremely_shifted_players[\"name_key\"] = normalize_name(extremely_shifted_players[\"last_name, first_name\"])\n"
     ]
    }
   ],
   "source": [
    "import os\n",
    "import pandas as pd\n",
    "\n",
    "playersShiftDirectory = \"../MLBDATA/Raw/ShiftData\"\n",
    "seasonsFilePath       = \"../MLBDATA/Raw/BatterData/BattingData2015-2024NoCovid.csv\"\n",
    "archetypesFilePath    = \"../MLBDATA/Processed/BatterData/PlayerArchetypesClusters2016-2022NoCovid.csv\"\n",
    "firstYear             = 2015\n",
    "lastPreBanYear        = 2022\n",
    "firstPostBanYear      = 2023\n",
    "outputFile            = \"../MLBDATA/Processed/BatterData/ModelingBattingData.csv\"\n",
    "\n",
    "dfSeasons     = pd.read_csv(seasonsFilePath)\n",
    "dfArchetypes  = pd.read_csv(archetypesFilePath)\n",
    "\n",
    "dfPlayerShift = pd.read_csv(os.path.join(playersShiftDirectory, \"POSPlayer2016.csv\"))\n",
    "dfPlayerShift.drop(columns=[\"team_id\", \"total_pa\"], inplace=True)\n",
    "dfPlayerShift.rename(columns={\"name\": \"last_name, first_name\"}, inplace=True)\n",
    "\n",
    "for fn in os.listdir(playersShiftDirectory):\n",
    "    if fn.startswith(\"POSPlayer\") and fn.endswith(\".csv\") and fn != \"POSPlayer2016.csv\":\n",
    "        tmp = pd.read_csv(os.path.join(playersShiftDirectory, fn))\n",
    "        tmp.drop(columns=[\"team_id\", \"total_pa\"], inplace=True)\n",
    "        tmp.rename(columns={\"name\": \"last_name, first_name\"}, inplace=True)\n",
    "        dfPlayerShift = pd.concat([dfPlayerShift, tmp], ignore_index=True)\n",
    "\n",
    "dfPlayerShift = dfPlayerShift[dfPlayerShift[\"year\"] <= lastPreBanYear]\n",
    "\n",
    "dfPlayerShift.rename(columns={\"pa_shift_percent\": \"shift_rate\"}, inplace=True)\n",
    "\n",
    "df_avg_shift = (\n",
    "    dfPlayerShift\n",
    "    .groupby(\"last_name, first_name\", as_index=False)[\"shift_rate\"]\n",
    "    .mean()\n",
    ")\n",
    "\n",
    "extremely_shifted_players = df_avg_shift[df_avg_shift[\"shift_rate\"] > 50]\n",
    "\n",
    "def normalize_name(s):\n",
    "    return s.str.replace(r\"[,\\s]+\", \"\", regex=True).str.lower()\n",
    "\n",
    "dfArchetypes[\"name_key\"] = normalize_name(dfArchetypes[\"last_name, first_name\"])\n",
    "extremely_shifted_players[\"name_key\"] = normalize_name(extremely_shifted_players[\"last_name, first_name\"])\n",
    "\n",
    "merged_shifted = pd.merge(\n",
    "    extremely_shifted_players,\n",
    "    dfArchetypes[[\"name_key\", \"cluster\"]],\n",
    "    on=\"name_key\",\n",
    "    how=\"inner\"\n",
    ")\n",
    "\n",
    "extreme_counts_by_cluster = (\n",
    "    merged_shifted\n",
    "    .groupby(\"cluster\")[\"name_key\"]\n",
    "    .nunique()\n",
    "    .reset_index(name=\"num_extremely_shifted\")\n",
    ")\n",
    "\n",
    "print(extreme_counts_by_cluster)"
   ]
  }
 ],
 "metadata": {
  "kernelspec": {
   "display_name": ".venv",
   "language": "python",
   "name": "python3"
  },
  "language_info": {
   "codemirror_mode": {
    "name": "ipython",
    "version": 3
   },
   "file_extension": ".py",
   "mimetype": "text/x-python",
   "name": "python",
   "nbconvert_exporter": "python",
   "pygments_lexer": "ipython3",
   "version": "3.13.1"
  }
 },
 "nbformat": 4,
 "nbformat_minor": 5
}
