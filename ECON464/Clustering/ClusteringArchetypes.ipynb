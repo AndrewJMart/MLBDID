{
 "cells": [
  {
   "cell_type": "code",
   "execution_count": 28,
   "id": "726d12a3",
   "metadata": {},
   "outputs": [],
   "source": [
    "# Imports and File Paths\n",
    "import pandas as pd\n",
    "from sklearn.preprocessing import StandardScaler\n",
    "from sklearn.decomposition import PCA\n",
    "from sklearn.cluster import KMeans\n",
    "from sklearn.metrics import silhouette_score\n",
    "import plotly.express as px\n",
    "\n",
    "INPUT_FILE = \"../MLBDATA/Raw/BatterData/BattingData2015-2024NoCovid.csv\"\n"
   ]
  },
  {
   "cell_type": "code",
   "execution_count": 29,
   "id": "1c605c95",
   "metadata": {},
   "outputs": [
    {
     "name": "stdout",
     "output_type": "stream",
     "text": [
      "Index(['last_name, first_name', 'player_id', 'year', 'player_age', 'ab', 'pa',\n",
      "       'hit', 'single', 'double', 'triple', 'home_run', 'strikeout', 'walk',\n",
      "       'k_percent', 'bb_percent', 'batting_avg', 'slg_percent',\n",
      "       'on_base_percent', 'on_base_plus_slg', 'isolated_power', 'babip',\n",
      "       'b_rbi', 'xba', 'xslg', 'woba', 'xwoba', 'xobp', 'xiso',\n",
      "       'avg_swing_speed', 'fast_swing_rate', 'blasts_contact', 'blasts_swing',\n",
      "       'squared_up_contact', 'squared_up_swing', 'avg_swing_length', 'swords',\n",
      "       'exit_velocity_avg', 'launch_angle_avg', 'sweet_spot_percent',\n",
      "       'barrel_batted_rate', 'solidcontact_percent', 'flareburner_percent',\n",
      "       'poorlyunder_percent', 'poorlytopped_percent', 'poorlyweak_percent',\n",
      "       'hard_hit_percent', 'whiff_percent', 'pull_percent',\n",
      "       'straightaway_percent', 'opposite_percent', 'groundballs_percent',\n",
      "       'flyballs_percent', 'linedrives_percent', 'popups_percent',\n",
      "       'sprint_speed'],\n",
      "      dtype='object')\n"
     ]
    },
    {
     "data": {
      "text/html": [
       "<div>\n",
       "<style scoped>\n",
       "    .dataframe tbody tr th:only-of-type {\n",
       "        vertical-align: middle;\n",
       "    }\n",
       "\n",
       "    .dataframe tbody tr th {\n",
       "        vertical-align: top;\n",
       "    }\n",
       "\n",
       "    .dataframe thead th {\n",
       "        text-align: right;\n",
       "    }\n",
       "</style>\n",
       "<table border=\"1\" class=\"dataframe\">\n",
       "  <thead>\n",
       "    <tr style=\"text-align: right;\">\n",
       "      <th></th>\n",
       "      <th>last_name, first_name</th>\n",
       "      <th>player_id</th>\n",
       "      <th>k_percent</th>\n",
       "      <th>bb_percent</th>\n",
       "      <th>batting_avg</th>\n",
       "      <th>slg_percent</th>\n",
       "      <th>on_base_percent</th>\n",
       "      <th>on_base_plus_slg</th>\n",
       "      <th>isolated_power</th>\n",
       "      <th>babip</th>\n",
       "      <th>...</th>\n",
       "      <th>hard_hit_percent</th>\n",
       "      <th>whiff_percent</th>\n",
       "      <th>pull_percent</th>\n",
       "      <th>straightaway_percent</th>\n",
       "      <th>opposite_percent</th>\n",
       "      <th>groundballs_percent</th>\n",
       "      <th>flyballs_percent</th>\n",
       "      <th>linedrives_percent</th>\n",
       "      <th>popups_percent</th>\n",
       "      <th>sprint_speed</th>\n",
       "    </tr>\n",
       "  </thead>\n",
       "  <tbody>\n",
       "    <tr>\n",
       "      <th>311</th>\n",
       "      <td>Ortiz, David</td>\n",
       "      <td>120074</td>\n",
       "      <td>13.7</td>\n",
       "      <td>12.8</td>\n",
       "      <td>0.315</td>\n",
       "      <td>0.620</td>\n",
       "      <td>0.401</td>\n",
       "      <td>1.021</td>\n",
       "      <td>0.305</td>\n",
       "      <td>0.312</td>\n",
       "      <td>...</td>\n",
       "      <td>47.2</td>\n",
       "      <td>19.4</td>\n",
       "      <td>47.6</td>\n",
       "      <td>35.8</td>\n",
       "      <td>16.6</td>\n",
       "      <td>33.8</td>\n",
       "      <td>28.4</td>\n",
       "      <td>29.0</td>\n",
       "      <td>8.7</td>\n",
       "      <td>23.6</td>\n",
       "    </tr>\n",
       "    <tr>\n",
       "      <th>312</th>\n",
       "      <td>Beltré, Adrian</td>\n",
       "      <td>134181</td>\n",
       "      <td>10.3</td>\n",
       "      <td>7.5</td>\n",
       "      <td>0.300</td>\n",
       "      <td>0.521</td>\n",
       "      <td>0.358</td>\n",
       "      <td>0.879</td>\n",
       "      <td>0.221</td>\n",
       "      <td>0.293</td>\n",
       "      <td>...</td>\n",
       "      <td>40.4</td>\n",
       "      <td>15.2</td>\n",
       "      <td>36.9</td>\n",
       "      <td>37.5</td>\n",
       "      <td>25.6</td>\n",
       "      <td>41.2</td>\n",
       "      <td>24.0</td>\n",
       "      <td>25.2</td>\n",
       "      <td>9.6</td>\n",
       "      <td>25.9</td>\n",
       "    </tr>\n",
       "    <tr>\n",
       "      <th>313</th>\n",
       "      <td>Beltrán, Carlos</td>\n",
       "      <td>136860</td>\n",
       "      <td>17.0</td>\n",
       "      <td>5.9</td>\n",
       "      <td>0.295</td>\n",
       "      <td>0.513</td>\n",
       "      <td>0.337</td>\n",
       "      <td>0.850</td>\n",
       "      <td>0.218</td>\n",
       "      <td>0.315</td>\n",
       "      <td>...</td>\n",
       "      <td>38.5</td>\n",
       "      <td>19.6</td>\n",
       "      <td>43.7</td>\n",
       "      <td>34.1</td>\n",
       "      <td>22.2</td>\n",
       "      <td>42.4</td>\n",
       "      <td>22.2</td>\n",
       "      <td>26.6</td>\n",
       "      <td>8.8</td>\n",
       "      <td>25.7</td>\n",
       "    </tr>\n",
       "    <tr>\n",
       "      <th>314</th>\n",
       "      <td>Werth, Jayson</td>\n",
       "      <td>150029</td>\n",
       "      <td>22.9</td>\n",
       "      <td>11.7</td>\n",
       "      <td>0.244</td>\n",
       "      <td>0.417</td>\n",
       "      <td>0.335</td>\n",
       "      <td>0.752</td>\n",
       "      <td>0.173</td>\n",
       "      <td>0.288</td>\n",
       "      <td>...</td>\n",
       "      <td>44.6</td>\n",
       "      <td>20.9</td>\n",
       "      <td>41.1</td>\n",
       "      <td>35.7</td>\n",
       "      <td>23.2</td>\n",
       "      <td>41.3</td>\n",
       "      <td>26.5</td>\n",
       "      <td>25.3</td>\n",
       "      <td>6.9</td>\n",
       "      <td>25.8</td>\n",
       "    </tr>\n",
       "    <tr>\n",
       "      <th>315</th>\n",
       "      <td>Pierzynski, A.J.</td>\n",
       "      <td>150229</td>\n",
       "      <td>11.2</td>\n",
       "      <td>2.3</td>\n",
       "      <td>0.219</td>\n",
       "      <td>0.304</td>\n",
       "      <td>0.243</td>\n",
       "      <td>0.547</td>\n",
       "      <td>0.085</td>\n",
       "      <td>0.237</td>\n",
       "      <td>...</td>\n",
       "      <td>33.9</td>\n",
       "      <td>18.3</td>\n",
       "      <td>33.0</td>\n",
       "      <td>41.2</td>\n",
       "      <td>25.8</td>\n",
       "      <td>51.6</td>\n",
       "      <td>16.7</td>\n",
       "      <td>26.7</td>\n",
       "      <td>5.0</td>\n",
       "      <td>24.5</td>\n",
       "    </tr>\n",
       "  </tbody>\n",
       "</table>\n",
       "<p>5 rows × 36 columns</p>\n",
       "</div>"
      ],
      "text/plain": [
       "    last_name, first_name  player_id  k_percent  bb_percent  batting_avg  \\\n",
       "311          Ortiz, David     120074       13.7        12.8        0.315   \n",
       "312        Beltré, Adrian     134181       10.3         7.5        0.300   \n",
       "313       Beltrán, Carlos     136860       17.0         5.9        0.295   \n",
       "314         Werth, Jayson     150029       22.9        11.7        0.244   \n",
       "315      Pierzynski, A.J.     150229       11.2         2.3        0.219   \n",
       "\n",
       "     slg_percent  on_base_percent  on_base_plus_slg  isolated_power  babip  \\\n",
       "311        0.620            0.401             1.021           0.305  0.312   \n",
       "312        0.521            0.358             0.879           0.221  0.293   \n",
       "313        0.513            0.337             0.850           0.218  0.315   \n",
       "314        0.417            0.335             0.752           0.173  0.288   \n",
       "315        0.304            0.243             0.547           0.085  0.237   \n",
       "\n",
       "     ...  hard_hit_percent  whiff_percent  pull_percent  straightaway_percent  \\\n",
       "311  ...              47.2           19.4          47.6                  35.8   \n",
       "312  ...              40.4           15.2          36.9                  37.5   \n",
       "313  ...              38.5           19.6          43.7                  34.1   \n",
       "314  ...              44.6           20.9          41.1                  35.7   \n",
       "315  ...              33.9           18.3          33.0                  41.2   \n",
       "\n",
       "     opposite_percent  groundballs_percent  flyballs_percent  \\\n",
       "311              16.6                 33.8              28.4   \n",
       "312              25.6                 41.2              24.0   \n",
       "313              22.2                 42.4              22.2   \n",
       "314              23.2                 41.3              26.5   \n",
       "315              25.8                 51.6              16.7   \n",
       "\n",
       "     linedrives_percent  popups_percent  sprint_speed  \n",
       "311                29.0             8.7          23.6  \n",
       "312                25.2             9.6          25.9  \n",
       "313                26.6             8.8          25.7  \n",
       "314                25.3             6.9          25.8  \n",
       "315                26.7             5.0          24.5  \n",
       "\n",
       "[5 rows x 36 columns]"
      ]
     },
     "execution_count": 29,
     "metadata": {},
     "output_type": "execute_result"
    }
   ],
   "source": [
    "# Cell 3: Load and Initial Cleanup\n",
    "df = pd.read_csv(INPUT_FILE)\n",
    "\n",
    "print(df.columns)\n",
    "\n",
    "# Drop unwanted outcome/stat columns\n",
    "to_drop = ['player_age', 'r_stolen_base_pct', 'avg_swing_speed', 'fast_swing_rate', 'blasts_contact', \n",
    "           'blasts_swing', 'squared_up_contact', 'squared_up_swing', 'avg_swing_length', 'swords', 'ab', \n",
    "           'pa', 'hit', 'single', 'double', 'triple', 'home_run', 'strikeout', 'walk', 'batted_ball']\n",
    "df.drop(columns=to_drop, inplace=True, errors='ignore')\n",
    "\n",
    "# Filter to pre-ban seasons 2016–2022\n",
    "df = df[df['year'].between(2016, 2022)].copy()\n",
    "\n",
    "df.drop(columns=['year'], inplace=True)\n",
    "\n",
    "# Remove any rows with missing feature values\n",
    "initialDFClean = df.copy()\n",
    "\n",
    "initialDFClean.head()"
   ]
  },
  {
   "cell_type": "code",
   "execution_count": null,
   "id": "18e09202",
   "metadata": {},
   "outputs": [],
   "source": []
  },
  {
   "cell_type": "code",
   "execution_count": 30,
   "id": "5ea68fc9",
   "metadata": {},
   "outputs": [
    {
     "data": {
      "text/html": [
       "<div>\n",
       "<style scoped>\n",
       "    .dataframe tbody tr th:only-of-type {\n",
       "        vertical-align: middle;\n",
       "    }\n",
       "\n",
       "    .dataframe tbody tr th {\n",
       "        vertical-align: top;\n",
       "    }\n",
       "\n",
       "    .dataframe thead th {\n",
       "        text-align: right;\n",
       "    }\n",
       "</style>\n",
       "<table border=\"1\" class=\"dataframe\">\n",
       "  <thead>\n",
       "    <tr style=\"text-align: right;\">\n",
       "      <th></th>\n",
       "      <th>player_id</th>\n",
       "      <th>last_name, first_name</th>\n",
       "      <th>k_percent</th>\n",
       "      <th>bb_percent</th>\n",
       "      <th>batting_avg</th>\n",
       "      <th>slg_percent</th>\n",
       "      <th>on_base_percent</th>\n",
       "      <th>on_base_plus_slg</th>\n",
       "      <th>isolated_power</th>\n",
       "      <th>babip</th>\n",
       "      <th>...</th>\n",
       "      <th>hard_hit_percent</th>\n",
       "      <th>whiff_percent</th>\n",
       "      <th>pull_percent</th>\n",
       "      <th>straightaway_percent</th>\n",
       "      <th>opposite_percent</th>\n",
       "      <th>groundballs_percent</th>\n",
       "      <th>flyballs_percent</th>\n",
       "      <th>linedrives_percent</th>\n",
       "      <th>popups_percent</th>\n",
       "      <th>sprint_speed</th>\n",
       "    </tr>\n",
       "  </thead>\n",
       "  <tbody>\n",
       "    <tr>\n",
       "      <th>0</th>\n",
       "      <td>120074</td>\n",
       "      <td>Ortiz, David</td>\n",
       "      <td>13.700000</td>\n",
       "      <td>12.8</td>\n",
       "      <td>0.315</td>\n",
       "      <td>0.620000</td>\n",
       "      <td>0.401000</td>\n",
       "      <td>1.0210</td>\n",
       "      <td>0.305000</td>\n",
       "      <td>0.312000</td>\n",
       "      <td>...</td>\n",
       "      <td>47.200000</td>\n",
       "      <td>19.4</td>\n",
       "      <td>47.600000</td>\n",
       "      <td>35.800000</td>\n",
       "      <td>16.6</td>\n",
       "      <td>33.800000</td>\n",
       "      <td>28.400000</td>\n",
       "      <td>29.000000</td>\n",
       "      <td>8.700000</td>\n",
       "      <td>23.6</td>\n",
       "    </tr>\n",
       "    <tr>\n",
       "      <th>1</th>\n",
       "      <td>134181</td>\n",
       "      <td>Beltré, Adrian</td>\n",
       "      <td>14.566667</td>\n",
       "      <td>8.2</td>\n",
       "      <td>0.295</td>\n",
       "      <td>0.495667</td>\n",
       "      <td>0.356333</td>\n",
       "      <td>0.8520</td>\n",
       "      <td>0.200667</td>\n",
       "      <td>0.308667</td>\n",
       "      <td>...</td>\n",
       "      <td>36.766667</td>\n",
       "      <td>19.1</td>\n",
       "      <td>35.233333</td>\n",
       "      <td>38.166667</td>\n",
       "      <td>26.2</td>\n",
       "      <td>41.166667</td>\n",
       "      <td>24.666667</td>\n",
       "      <td>27.166667</td>\n",
       "      <td>6.966667</td>\n",
       "      <td>25.0</td>\n",
       "    </tr>\n",
       "    <tr>\n",
       "      <th>2</th>\n",
       "      <td>136860</td>\n",
       "      <td>Beltrán, Carlos</td>\n",
       "      <td>18.500000</td>\n",
       "      <td>6.2</td>\n",
       "      <td>0.263</td>\n",
       "      <td>0.448000</td>\n",
       "      <td>0.310000</td>\n",
       "      <td>0.7580</td>\n",
       "      <td>0.185000</td>\n",
       "      <td>0.289000</td>\n",
       "      <td>...</td>\n",
       "      <td>34.750000</td>\n",
       "      <td>19.7</td>\n",
       "      <td>42.750000</td>\n",
       "      <td>35.500000</td>\n",
       "      <td>21.5</td>\n",
       "      <td>43.150000</td>\n",
       "      <td>23.250000</td>\n",
       "      <td>24.750000</td>\n",
       "      <td>8.850000</td>\n",
       "      <td>25.5</td>\n",
       "    </tr>\n",
       "    <tr>\n",
       "      <th>3</th>\n",
       "      <td>150029</td>\n",
       "      <td>Werth, Jayson</td>\n",
       "      <td>23.400000</td>\n",
       "      <td>11.9</td>\n",
       "      <td>0.235</td>\n",
       "      <td>0.405000</td>\n",
       "      <td>0.328500</td>\n",
       "      <td>0.7335</td>\n",
       "      <td>0.170000</td>\n",
       "      <td>0.279000</td>\n",
       "      <td>...</td>\n",
       "      <td>42.650000</td>\n",
       "      <td>21.4</td>\n",
       "      <td>40.400000</td>\n",
       "      <td>36.350000</td>\n",
       "      <td>23.3</td>\n",
       "      <td>40.750000</td>\n",
       "      <td>24.650000</td>\n",
       "      <td>25.400000</td>\n",
       "      <td>9.150000</td>\n",
       "      <td>25.7</td>\n",
       "    </tr>\n",
       "    <tr>\n",
       "      <th>4</th>\n",
       "      <td>150229</td>\n",
       "      <td>Pierzynski, A.J.</td>\n",
       "      <td>11.200000</td>\n",
       "      <td>2.3</td>\n",
       "      <td>0.219</td>\n",
       "      <td>0.304000</td>\n",
       "      <td>0.243000</td>\n",
       "      <td>0.5470</td>\n",
       "      <td>0.085000</td>\n",
       "      <td>0.237000</td>\n",
       "      <td>...</td>\n",
       "      <td>33.900000</td>\n",
       "      <td>18.3</td>\n",
       "      <td>33.000000</td>\n",
       "      <td>41.200000</td>\n",
       "      <td>25.8</td>\n",
       "      <td>51.600000</td>\n",
       "      <td>16.700000</td>\n",
       "      <td>26.700000</td>\n",
       "      <td>5.000000</td>\n",
       "      <td>24.5</td>\n",
       "    </tr>\n",
       "  </tbody>\n",
       "</table>\n",
       "<p>5 rows × 36 columns</p>\n",
       "</div>"
      ],
      "text/plain": [
       "   player_id last_name, first_name  k_percent  bb_percent  batting_avg  \\\n",
       "0     120074          Ortiz, David  13.700000        12.8        0.315   \n",
       "1     134181        Beltré, Adrian  14.566667         8.2        0.295   \n",
       "2     136860       Beltrán, Carlos  18.500000         6.2        0.263   \n",
       "3     150029         Werth, Jayson  23.400000        11.9        0.235   \n",
       "4     150229      Pierzynski, A.J.  11.200000         2.3        0.219   \n",
       "\n",
       "   slg_percent  on_base_percent  on_base_plus_slg  isolated_power     babip  \\\n",
       "0     0.620000         0.401000            1.0210        0.305000  0.312000   \n",
       "1     0.495667         0.356333            0.8520        0.200667  0.308667   \n",
       "2     0.448000         0.310000            0.7580        0.185000  0.289000   \n",
       "3     0.405000         0.328500            0.7335        0.170000  0.279000   \n",
       "4     0.304000         0.243000            0.5470        0.085000  0.237000   \n",
       "\n",
       "   ...  hard_hit_percent  whiff_percent  pull_percent  straightaway_percent  \\\n",
       "0  ...         47.200000           19.4     47.600000             35.800000   \n",
       "1  ...         36.766667           19.1     35.233333             38.166667   \n",
       "2  ...         34.750000           19.7     42.750000             35.500000   \n",
       "3  ...         42.650000           21.4     40.400000             36.350000   \n",
       "4  ...         33.900000           18.3     33.000000             41.200000   \n",
       "\n",
       "   opposite_percent  groundballs_percent  flyballs_percent  \\\n",
       "0              16.6            33.800000         28.400000   \n",
       "1              26.2            41.166667         24.666667   \n",
       "2              21.5            43.150000         23.250000   \n",
       "3              23.3            40.750000         24.650000   \n",
       "4              25.8            51.600000         16.700000   \n",
       "\n",
       "   linedrives_percent  popups_percent  sprint_speed  \n",
       "0           29.000000        8.700000          23.6  \n",
       "1           27.166667        6.966667          25.0  \n",
       "2           24.750000        8.850000          25.5  \n",
       "3           25.400000        9.150000          25.7  \n",
       "4           26.700000        5.000000          24.5  \n",
       "\n",
       "[5 rows x 36 columns]"
      ]
     },
     "execution_count": 30,
     "metadata": {},
     "output_type": "execute_result"
    }
   ],
   "source": [
    "# Compute Player-Level Averages (2016–2022)\n",
    "\n",
    "# List of features (all columns except the two ID columns)\n",
    "feature_cols = [c for c in initialDFClean.columns\n",
    "                if c not in ('player_id', 'last_name, first_name',)]\n",
    "\n",
    "player_feats = (\n",
    "    initialDFClean\n",
    "      .groupby(['player_id', 'last_name, first_name'])[feature_cols]\n",
    "      .mean()\n",
    "      .reset_index()\n",
    ")\n",
    "\n",
    "# Inspect\n",
    "player_feats.head()\n"
   ]
  },
  {
   "cell_type": "code",
   "execution_count": 31,
   "id": "af5f99b4",
   "metadata": {},
   "outputs": [
    {
     "name": "stdout",
     "output_type": "stream",
     "text": [
      "Explained variance per PC:\n",
      " PC1    0.343576\n",
      "PC2    0.222845\n",
      "PC3    0.106312\n",
      "PC4    0.064414\n",
      "PC5    0.050566\n",
      "PC6    0.044030\n",
      "dtype: float64\n"
     ]
    }
   ],
   "source": [
    "# Standardize & PCA\n",
    "# Standardize features to zero mean/unit variance\n",
    "id_cols      = ['player_id', 'last_name, first_name']\n",
    "feature_cols = [c for c in player_feats.columns if c not in id_cols]\n",
    "\n",
    "X = player_feats[feature_cols].copy()  \n",
    "\n",
    "scaler = StandardScaler()\n",
    "X_scaled = scaler.fit_transform(X)\n",
    "\n",
    "# PCA: keep enough components to explain 80% of variance\n",
    "pca = PCA(n_components=0.80, random_state=42)\n",
    "X_pca_full = pca.fit_transform(X_scaled)\n",
    "\n",
    "# Print explained variance per PC\n",
    "explained = pd.Series(\n",
    "    pca.explained_variance_ratio_,\n",
    "    index=[f'PC{i+1}' for i in range(pca.n_components_)]\n",
    ")\n",
    "print(\"Explained variance per PC:\\n\", explained)\n"
   ]
  },
  {
   "cell_type": "code",
   "execution_count": 32,
   "id": "e66bc1a5",
   "metadata": {},
   "outputs": [
    {
     "name": "stdout",
     "output_type": "stream",
     "text": [
      "\n",
      "PC1 — Top 5 Positive Loadings:\n",
      "xiso              0.273643\n",
      "xslg              0.270155\n",
      "isolated_power    0.262971\n",
      "slg_percent       0.257939\n",
      "xwoba             0.256710\n",
      "Name: PC1, dtype: float64\n",
      "\n",
      "PC1 — Top 5 Negative Loadings:\n",
      "poorlytopped_percent   -0.173069\n",
      "groundballs_percent    -0.169813\n",
      "poorlyweak_percent     -0.127403\n",
      "opposite_percent       -0.104301\n",
      "straightaway_percent   -0.070418\n",
      "Name: PC1, dtype: float64\n",
      "\n",
      "PC2 — Top 5 Positive Loadings:\n",
      "batting_avg            0.292219\n",
      "xba                    0.279945\n",
      "babip                  0.241115\n",
      "on_base_percent        0.226275\n",
      "groundballs_percent    0.214783\n",
      "Name: PC2, dtype: float64\n",
      "\n",
      "PC2 — Top 5 Negative Loadings:\n",
      "poorlyunder_percent   -0.266326\n",
      "launch_angle_avg      -0.257847\n",
      "popups_percent        -0.247618\n",
      "pull_percent          -0.235216\n",
      "flyballs_percent      -0.222724\n",
      "Name: PC2, dtype: float64\n",
      "\n",
      "PC3 — Top 5 Positive Loadings:\n",
      "whiff_percent          0.361030\n",
      "k_percent              0.330301\n",
      "hard_hit_percent       0.263418\n",
      "groundballs_percent    0.240746\n",
      "exit_velocity_avg      0.234124\n",
      "Name: PC3, dtype: float64\n",
      "\n",
      "PC3 — Top 5 Negative Loadings:\n",
      "poorlyunder_percent   -0.300145\n",
      "launch_angle_avg      -0.240013\n",
      "linedrives_percent    -0.237191\n",
      "flareburner_percent   -0.205605\n",
      "sweet_spot_percent    -0.192250\n",
      "Name: PC3, dtype: float64\n"
     ]
    }
   ],
   "source": [
    "# Examine PCA Loadings\n",
    "loadings = pd.DataFrame(\n",
    "    pca.components_.T,\n",
    "    index=feature_cols,\n",
    "    columns=explained.index\n",
    ")\n",
    "\n",
    "# Print top positive and negative loadings for PCs 1–3\n",
    "for pc in explained.index[:3]:\n",
    "    series = loadings[pc]\n",
    "    top_pos = series.sort_values(ascending=False).head(5)\n",
    "    top_neg = series.sort_values(ascending=True).head(5)\n",
    "    print(f\"\\n{pc} — Top 5 Positive Loadings:\\n{top_pos}\")\n",
    "    print(f\"\\n{pc} — Top 5 Negative Loadings:\\n{top_neg}\")\n"
   ]
  },
  {
   "cell_type": "code",
   "execution_count": 33,
   "id": "202bb911",
   "metadata": {},
   "outputs": [
    {
     "name": "stdout",
     "output_type": "stream",
     "text": [
      "Silhouette scores: [(2, np.float64(0.2827345653162998)), (3, np.float64(0.2605321391872537)), (4, np.float64(0.23160803245912473)), (5, np.float64(0.22597670730597508)), (6, np.float64(0.23450770026662565)), (7, np.float64(0.24398265616012668))]\n",
      "Best k by silhouette: 2\n"
     ]
    }
   ],
   "source": [
    "# Determine Optimal K & Cluster\n",
    "# Use just the first 3 PC dimensions\n",
    "X_pca = X_pca_full[:, :3]\n",
    "\n",
    "# Silhouette scores for k = 2 through 7\n",
    "sil_scores = [\n",
    "    (k, silhouette_score(X_pca, KMeans(n_clusters=k, random_state=42)\n",
    "                           .fit_predict(X_pca)))\n",
    "    for k in range(2, 8)\n",
    "]\n",
    "best_k = max(sil_scores, key=lambda x: x[1])[0]\n",
    "print(\"Silhouette scores:\", sil_scores)\n",
    "print(\"Best k by silhouette:\", best_k)\n",
    "\n",
    "# Fit K-Means with the chosen k\n",
    "kmeans = KMeans(n_clusters=3, random_state=42).fit(X_pca)\n",
    "player_feats['cluster'] = kmeans.labels_\n"
   ]
  },
  {
   "cell_type": "code",
   "execution_count": 34,
   "id": "e7f3c977",
   "metadata": {},
   "outputs": [
    {
     "name": "stdout",
     "output_type": "stream",
     "text": [
      "\n",
      "Cluster Means:\n",
      "          Power (PC1)  Quality Of Contact (PC2)  Swing Control (PC3)\n",
      "cluster                                                            \n",
      "0          -3.091149                  1.521547            -0.104278\n",
      "1           3.499754                  1.442026             0.265681\n",
      "2           0.165805                 -2.547283            -0.109419\n",
      "\n",
      "Cluster Sizes:\n",
      " cluster\n",
      "0    233\n",
      "1    194\n",
      "2    249\n",
      "Name: count, dtype: int64\n"
     ]
    }
   ],
   "source": [
    "# Cluster Summaries\n",
    "# Build a DataFrame of PC1–PC3 with axis labels\n",
    "pc_df = pd.DataFrame(\n",
    "    X_pca,\n",
    "    columns=['Power (PC1)', 'Quality Of Contact (PC2)', 'Swing Control (PC3)']\n",
    ")\n",
    "pc_df['cluster'] = player_feats['cluster']\n",
    "\n",
    "# Compute mean PC scores and cluster sizes\n",
    "cluster_means = pc_df.groupby('cluster')[['Power (PC1)', 'Quality Of Contact (PC2)', 'Swing Control (PC3)']].mean()\n",
    "cluster_counts = pc_df['cluster'].value_counts().sort_index()\n",
    "\n",
    "print(\"\\nCluster Means:\\n\", cluster_means)\n",
    "print(\"\\nCluster Sizes:\\n\", cluster_counts)\n"
   ]
  },
  {
   "cell_type": "code",
   "execution_count": 35,
   "id": "a03c30b5",
   "metadata": {},
   "outputs": [
    {
     "name": "stderr",
     "output_type": "stream",
     "text": [
      "C:\\Users\\Andrew\\AppData\\Local\\Temp\\ipykernel_33600\\103983879.py:12: DeprecationWarning:\n",
      "\n",
      "DataFrameGroupBy.apply operated on the grouping columns. This behavior is deprecated, and in a future version of pandas the grouping columns will be excluded from the operation. Either pass `include_groups=False` to exclude the groupings or explicitly select the grouping columns after groupby to silence this warning.\n",
      "\n"
     ]
    },
    {
     "data": {
      "application/vnd.plotly.v1+json": {
       "config": {
        "plotlyServerURL": "https://plot.ly"
       },
       "data": [
        {
         "hovertemplate": "Hitter Archetype=Contact Grinders<br>Slugging=%{x}<br>Contact=%{y}<br>Swing Control=%{z}<extra></extra>",
         "legendgroup": "Contact Grinders",
         "marker": {
          "color": "#636efa",
          "symbol": "circle"
         },
         "mode": "markers",
         "name": "Contact Grinders",
         "scene": "scene",
         "showlegend": true,
         "type": "scatter3d",
         "x": {
          "bdata": "d6k3awWcF8A5RKnUp5XCP78oVT1gahbAU6E+CoLHAsBgXsUdgGIawLQ7oRPg7/y/tJhkw46s8L+NRi3w9jQKwAUghSYRePq/jxXvV8vSE8DId1lLi5jtvw9yxKJuAbW/FLFBOkWN0r9rvPQTkosYwKXEVuu9GxDAmxGgFI/ZCcDgAff4aMwGwEPUUZVxvvG/ZU5MNlZe/r9Skp9aMrv5vw==",
          "dtype": "f8"
         },
         "y": {
          "bdata": "3tfQu+JnXb/lj2iHnYzyP+2pYVPPpvs/kGhnbv2vA0CX0bceqjvgv5XdqudO7AdAVI3K6QEaDUDoZgUhAR3+v/z/HzTjZuU/XIsIm5RXAkCUvZlcMALZPz4/Q0sbyAJAX3PADFV6+T+4kRueI138v8J52tWvCvE/Nggixk2eAEBnIdJ9P5HmP/BlRiEUNQNAinDjDTbYEUAh61FtqIEHQA==",
          "dtype": "f8"
         },
         "z": {
          "bdata": "WgUT2nBO/r+p2asheNuxP65GMOI2gag/8HKzin5m8j8OS/6whzPxvyOdAS6N9QbAmjw0e03y8j/K6JZmxCfhP7bHOWLshcy/nABJLikE/D/UaUBwSlD+vwkb+W33dt+/OtQ0PdJbBMDbBch3pEvEPyFJPaAL1+a/eu4v+/F0vL8R4qTaSrm7P0yVsCwv9OA/9ftdttm74z9S/OmA5IESwA==",
          "dtype": "f8"
         }
        },
        {
         "hovertemplate": "Hitter Archetype=Fly-Ball Sluggers<br>Slugging=%{x}<br>Contact=%{y}<br>Swing Control=%{z}<extra></extra>",
         "legendgroup": "Fly-Ball Sluggers",
         "marker": {
          "color": "#EF553B",
          "symbol": "circle"
         },
         "mode": "markers",
         "name": "Fly-Ball Sluggers",
         "scene": "scene",
         "showlegend": true,
         "type": "scatter3d",
         "x": {
          "bdata": "aZJALr1h5b/XYOrAJQMCwHv2YSLorJY/MdAOuIZrCMA4CU0gZZ/vvxXGJeP/iwRAbogU0DIL1b9Y79TvvQwDQIpXK3Es/PY/ECE98r9f/D8yg6MlsHX/v+1BvifMEv2/yShCFXF//T+Dr687LjvyP8Xi6yN3sO+/xlcXvBQqAUAYsHWkq5PiP6hgmRibuQPA3pIOZ4fX678tS/4aun4IwA==",
          "dtype": "f8"
         },
         "y": {
          "bdata": "bsq931gJDsB1Cndu0hwOwDqXjizTcZW/NwmgMDBCFMAayqZf86oAwNtZM6lp7/+/jJ2RAbiRFMAXnLyrJj8QwGi48aVvlOi/d19dzYe3+L+ks1VDAPH3v1QA7Zwg4Pq/s58ZmYlG/7/ud9aOMy0KwAGP/f+1BO6/gswcVFq98L+GdLaE3tv0v1AbFHicIQLAjsqvDahI0r/SMtu9kTUEwA==",
          "dtype": "f8"
         },
         "z": {
          "bdata": "Sa9o8uaB879Rx4SvAQz7P2KzXKmlIvq/sV3LkKKx+T+fPszAFw4RQK0wPVk6UgRAFBoAbf4n1L9tTdOyXpz5v4MzSZWcM+Y//mEY+Ts+/L/RLkc9aMrqv/wxbCQj5/S/6HiRrZs5878KEVNZsS77v+bxDu/3ZwVAvP+ghvhO7L/hEEnSyswKwGQf9bYbRATAC4Ca74wv9j9X2RPDZMoJQA==",
          "dtype": "f8"
         }
        },
        {
         "hovertemplate": "Hitter Archetype=Power-Contact Hitters<br>Slugging=%{x}<br>Contact=%{y}<br>Swing Control=%{z}<extra></extra>",
         "legendgroup": "Power-Contact Hitters",
         "marker": {
          "color": "#00cc96",
          "symbol": "circle"
         },
         "mode": "markers",
         "name": "Power-Contact Hitters",
         "scene": "scene",
         "showlegend": true,
         "type": "scatter3d",
         "x": {
          "bdata": "jDH5V6jg7z+c8UD72BwTQE4NpnwoNQ1A4+wAG6JjDkCtXf0yY7wWQNUBsdjezPA/od5vNasgsT+OIo5X5fEUQOy768x4JBJAs016TOIVGkBDmxJJ2YQCQJodZaZIltg/KjujVtdD+j+GefrkFfcCQGpnvQ5VbvE/yS2pmaTZ+T+h/3TMGjACQL3aCGZc+glAVDIgxLNGGEDxGFedngAKQA==",
          "dtype": "f8"
         },
         "y": {
          "bdata": "mQkGd5HgC0CkomRCPtHZP/lgVPSCnvk/EmRak4TdAEA8JqffaPbcPx6nnltiv+g/XhHpCOwG/D9dC37PNEgCQNihXNpw0Pi/G7dZuA0t+78DNr/Nv1vhPw9LbK/91vo/DXS2oGQ01D+SlfbyPnO1v7RujBMwbOw/jCDvI01+1z/Bjn9i1/IQQJAXE5mCRes/BmiazUrf2D+UKJrSqM7tPw==",
          "dtype": "f8"
         },
         "z": {
          "bdata": "mylWWXwzB0DLS9b6R7oOwONXlZNB9de/4QrX+vUc/T/YKp8Wcivzv4GqlcMKAQjAq8gWbZvHDkCU+k5Jh9cOwLsklrtai+s/OjtNqfYb+D/iWyN1diXlP7LW6hYl1fo/SRP5eBV5A8Dh8E6gtPz9P1Znn194PgBAz0O9mvc4AECXtuU6M8fEvxk2t34L0fG/qTWbK5y16T85bx+VKX7rPw==",
          "dtype": "f8"
         }
        }
       ],
       "layout": {
        "legend": {
         "title": {
          "text": "Hitter Archetype"
         },
         "tracegroupgap": 0
        },
        "scene": {
         "domain": {
          "x": [
           0,
           1
          ],
          "y": [
           0,
           1
          ]
         },
         "xaxis": {
          "title": {
           "text": "Slugging"
          }
         },
         "yaxis": {
          "title": {
           "text": "Contact"
          }
         },
         "zaxis": {
          "title": {
           "text": "Swing Control"
          }
         }
        },
        "template": {
         "data": {
          "bar": [
           {
            "error_x": {
             "color": "#2a3f5f"
            },
            "error_y": {
             "color": "#2a3f5f"
            },
            "marker": {
             "line": {
              "color": "#E5ECF6",
              "width": 0.5
             },
             "pattern": {
              "fillmode": "overlay",
              "size": 10,
              "solidity": 0.2
             }
            },
            "type": "bar"
           }
          ],
          "barpolar": [
           {
            "marker": {
             "line": {
              "color": "#E5ECF6",
              "width": 0.5
             },
             "pattern": {
              "fillmode": "overlay",
              "size": 10,
              "solidity": 0.2
             }
            },
            "type": "barpolar"
           }
          ],
          "carpet": [
           {
            "aaxis": {
             "endlinecolor": "#2a3f5f",
             "gridcolor": "white",
             "linecolor": "white",
             "minorgridcolor": "white",
             "startlinecolor": "#2a3f5f"
            },
            "baxis": {
             "endlinecolor": "#2a3f5f",
             "gridcolor": "white",
             "linecolor": "white",
             "minorgridcolor": "white",
             "startlinecolor": "#2a3f5f"
            },
            "type": "carpet"
           }
          ],
          "choropleth": [
           {
            "colorbar": {
             "outlinewidth": 0,
             "ticks": ""
            },
            "type": "choropleth"
           }
          ],
          "contour": [
           {
            "colorbar": {
             "outlinewidth": 0,
             "ticks": ""
            },
            "colorscale": [
             [
              0,
              "#0d0887"
             ],
             [
              0.1111111111111111,
              "#46039f"
             ],
             [
              0.2222222222222222,
              "#7201a8"
             ],
             [
              0.3333333333333333,
              "#9c179e"
             ],
             [
              0.4444444444444444,
              "#bd3786"
             ],
             [
              0.5555555555555556,
              "#d8576b"
             ],
             [
              0.6666666666666666,
              "#ed7953"
             ],
             [
              0.7777777777777778,
              "#fb9f3a"
             ],
             [
              0.8888888888888888,
              "#fdca26"
             ],
             [
              1,
              "#f0f921"
             ]
            ],
            "type": "contour"
           }
          ],
          "contourcarpet": [
           {
            "colorbar": {
             "outlinewidth": 0,
             "ticks": ""
            },
            "type": "contourcarpet"
           }
          ],
          "heatmap": [
           {
            "colorbar": {
             "outlinewidth": 0,
             "ticks": ""
            },
            "colorscale": [
             [
              0,
              "#0d0887"
             ],
             [
              0.1111111111111111,
              "#46039f"
             ],
             [
              0.2222222222222222,
              "#7201a8"
             ],
             [
              0.3333333333333333,
              "#9c179e"
             ],
             [
              0.4444444444444444,
              "#bd3786"
             ],
             [
              0.5555555555555556,
              "#d8576b"
             ],
             [
              0.6666666666666666,
              "#ed7953"
             ],
             [
              0.7777777777777778,
              "#fb9f3a"
             ],
             [
              0.8888888888888888,
              "#fdca26"
             ],
             [
              1,
              "#f0f921"
             ]
            ],
            "type": "heatmap"
           }
          ],
          "histogram": [
           {
            "marker": {
             "pattern": {
              "fillmode": "overlay",
              "size": 10,
              "solidity": 0.2
             }
            },
            "type": "histogram"
           }
          ],
          "histogram2d": [
           {
            "colorbar": {
             "outlinewidth": 0,
             "ticks": ""
            },
            "colorscale": [
             [
              0,
              "#0d0887"
             ],
             [
              0.1111111111111111,
              "#46039f"
             ],
             [
              0.2222222222222222,
              "#7201a8"
             ],
             [
              0.3333333333333333,
              "#9c179e"
             ],
             [
              0.4444444444444444,
              "#bd3786"
             ],
             [
              0.5555555555555556,
              "#d8576b"
             ],
             [
              0.6666666666666666,
              "#ed7953"
             ],
             [
              0.7777777777777778,
              "#fb9f3a"
             ],
             [
              0.8888888888888888,
              "#fdca26"
             ],
             [
              1,
              "#f0f921"
             ]
            ],
            "type": "histogram2d"
           }
          ],
          "histogram2dcontour": [
           {
            "colorbar": {
             "outlinewidth": 0,
             "ticks": ""
            },
            "colorscale": [
             [
              0,
              "#0d0887"
             ],
             [
              0.1111111111111111,
              "#46039f"
             ],
             [
              0.2222222222222222,
              "#7201a8"
             ],
             [
              0.3333333333333333,
              "#9c179e"
             ],
             [
              0.4444444444444444,
              "#bd3786"
             ],
             [
              0.5555555555555556,
              "#d8576b"
             ],
             [
              0.6666666666666666,
              "#ed7953"
             ],
             [
              0.7777777777777778,
              "#fb9f3a"
             ],
             [
              0.8888888888888888,
              "#fdca26"
             ],
             [
              1,
              "#f0f921"
             ]
            ],
            "type": "histogram2dcontour"
           }
          ],
          "mesh3d": [
           {
            "colorbar": {
             "outlinewidth": 0,
             "ticks": ""
            },
            "type": "mesh3d"
           }
          ],
          "parcoords": [
           {
            "line": {
             "colorbar": {
              "outlinewidth": 0,
              "ticks": ""
             }
            },
            "type": "parcoords"
           }
          ],
          "pie": [
           {
            "automargin": true,
            "type": "pie"
           }
          ],
          "scatter": [
           {
            "fillpattern": {
             "fillmode": "overlay",
             "size": 10,
             "solidity": 0.2
            },
            "type": "scatter"
           }
          ],
          "scatter3d": [
           {
            "line": {
             "colorbar": {
              "outlinewidth": 0,
              "ticks": ""
             }
            },
            "marker": {
             "colorbar": {
              "outlinewidth": 0,
              "ticks": ""
             }
            },
            "type": "scatter3d"
           }
          ],
          "scattercarpet": [
           {
            "marker": {
             "colorbar": {
              "outlinewidth": 0,
              "ticks": ""
             }
            },
            "type": "scattercarpet"
           }
          ],
          "scattergeo": [
           {
            "marker": {
             "colorbar": {
              "outlinewidth": 0,
              "ticks": ""
             }
            },
            "type": "scattergeo"
           }
          ],
          "scattergl": [
           {
            "marker": {
             "colorbar": {
              "outlinewidth": 0,
              "ticks": ""
             }
            },
            "type": "scattergl"
           }
          ],
          "scattermap": [
           {
            "marker": {
             "colorbar": {
              "outlinewidth": 0,
              "ticks": ""
             }
            },
            "type": "scattermap"
           }
          ],
          "scattermapbox": [
           {
            "marker": {
             "colorbar": {
              "outlinewidth": 0,
              "ticks": ""
             }
            },
            "type": "scattermapbox"
           }
          ],
          "scatterpolar": [
           {
            "marker": {
             "colorbar": {
              "outlinewidth": 0,
              "ticks": ""
             }
            },
            "type": "scatterpolar"
           }
          ],
          "scatterpolargl": [
           {
            "marker": {
             "colorbar": {
              "outlinewidth": 0,
              "ticks": ""
             }
            },
            "type": "scatterpolargl"
           }
          ],
          "scatterternary": [
           {
            "marker": {
             "colorbar": {
              "outlinewidth": 0,
              "ticks": ""
             }
            },
            "type": "scatterternary"
           }
          ],
          "surface": [
           {
            "colorbar": {
             "outlinewidth": 0,
             "ticks": ""
            },
            "colorscale": [
             [
              0,
              "#0d0887"
             ],
             [
              0.1111111111111111,
              "#46039f"
             ],
             [
              0.2222222222222222,
              "#7201a8"
             ],
             [
              0.3333333333333333,
              "#9c179e"
             ],
             [
              0.4444444444444444,
              "#bd3786"
             ],
             [
              0.5555555555555556,
              "#d8576b"
             ],
             [
              0.6666666666666666,
              "#ed7953"
             ],
             [
              0.7777777777777778,
              "#fb9f3a"
             ],
             [
              0.8888888888888888,
              "#fdca26"
             ],
             [
              1,
              "#f0f921"
             ]
            ],
            "type": "surface"
           }
          ],
          "table": [
           {
            "cells": {
             "fill": {
              "color": "#EBF0F8"
             },
             "line": {
              "color": "white"
             }
            },
            "header": {
             "fill": {
              "color": "#C8D4E3"
             },
             "line": {
              "color": "white"
             }
            },
            "type": "table"
           }
          ]
         },
         "layout": {
          "annotationdefaults": {
           "arrowcolor": "#2a3f5f",
           "arrowhead": 0,
           "arrowwidth": 1
          },
          "autotypenumbers": "strict",
          "coloraxis": {
           "colorbar": {
            "outlinewidth": 0,
            "ticks": ""
           }
          },
          "colorscale": {
           "diverging": [
            [
             0,
             "#8e0152"
            ],
            [
             0.1,
             "#c51b7d"
            ],
            [
             0.2,
             "#de77ae"
            ],
            [
             0.3,
             "#f1b6da"
            ],
            [
             0.4,
             "#fde0ef"
            ],
            [
             0.5,
             "#f7f7f7"
            ],
            [
             0.6,
             "#e6f5d0"
            ],
            [
             0.7,
             "#b8e186"
            ],
            [
             0.8,
             "#7fbc41"
            ],
            [
             0.9,
             "#4d9221"
            ],
            [
             1,
             "#276419"
            ]
           ],
           "sequential": [
            [
             0,
             "#0d0887"
            ],
            [
             0.1111111111111111,
             "#46039f"
            ],
            [
             0.2222222222222222,
             "#7201a8"
            ],
            [
             0.3333333333333333,
             "#9c179e"
            ],
            [
             0.4444444444444444,
             "#bd3786"
            ],
            [
             0.5555555555555556,
             "#d8576b"
            ],
            [
             0.6666666666666666,
             "#ed7953"
            ],
            [
             0.7777777777777778,
             "#fb9f3a"
            ],
            [
             0.8888888888888888,
             "#fdca26"
            ],
            [
             1,
             "#f0f921"
            ]
           ],
           "sequentialminus": [
            [
             0,
             "#0d0887"
            ],
            [
             0.1111111111111111,
             "#46039f"
            ],
            [
             0.2222222222222222,
             "#7201a8"
            ],
            [
             0.3333333333333333,
             "#9c179e"
            ],
            [
             0.4444444444444444,
             "#bd3786"
            ],
            [
             0.5555555555555556,
             "#d8576b"
            ],
            [
             0.6666666666666666,
             "#ed7953"
            ],
            [
             0.7777777777777778,
             "#fb9f3a"
            ],
            [
             0.8888888888888888,
             "#fdca26"
            ],
            [
             1,
             "#f0f921"
            ]
           ]
          },
          "colorway": [
           "#636efa",
           "#EF553B",
           "#00cc96",
           "#ab63fa",
           "#FFA15A",
           "#19d3f3",
           "#FF6692",
           "#B6E880",
           "#FF97FF",
           "#FECB52"
          ],
          "font": {
           "color": "#2a3f5f"
          },
          "geo": {
           "bgcolor": "white",
           "lakecolor": "white",
           "landcolor": "#E5ECF6",
           "showlakes": true,
           "showland": true,
           "subunitcolor": "white"
          },
          "hoverlabel": {
           "align": "left"
          },
          "hovermode": "closest",
          "mapbox": {
           "style": "light"
          },
          "paper_bgcolor": "white",
          "plot_bgcolor": "#E5ECF6",
          "polar": {
           "angularaxis": {
            "gridcolor": "white",
            "linecolor": "white",
            "ticks": ""
           },
           "bgcolor": "#E5ECF6",
           "radialaxis": {
            "gridcolor": "white",
            "linecolor": "white",
            "ticks": ""
           }
          },
          "scene": {
           "xaxis": {
            "backgroundcolor": "#E5ECF6",
            "gridcolor": "white",
            "gridwidth": 2,
            "linecolor": "white",
            "showbackground": true,
            "ticks": "",
            "zerolinecolor": "white"
           },
           "yaxis": {
            "backgroundcolor": "#E5ECF6",
            "gridcolor": "white",
            "gridwidth": 2,
            "linecolor": "white",
            "showbackground": true,
            "ticks": "",
            "zerolinecolor": "white"
           },
           "zaxis": {
            "backgroundcolor": "#E5ECF6",
            "gridcolor": "white",
            "gridwidth": 2,
            "linecolor": "white",
            "showbackground": true,
            "ticks": "",
            "zerolinecolor": "white"
           }
          },
          "shapedefaults": {
           "line": {
            "color": "#2a3f5f"
           }
          },
          "ternary": {
           "aaxis": {
            "gridcolor": "white",
            "linecolor": "white",
            "ticks": ""
           },
           "baxis": {
            "gridcolor": "white",
            "linecolor": "white",
            "ticks": ""
           },
           "bgcolor": "#E5ECF6",
           "caxis": {
            "gridcolor": "white",
            "linecolor": "white",
            "ticks": ""
           }
          },
          "title": {
           "x": 0.05
          },
          "xaxis": {
           "automargin": true,
           "gridcolor": "white",
           "linecolor": "white",
           "ticks": "",
           "title": {
            "standoff": 15
           },
           "zerolinecolor": "white",
           "zerolinewidth": 2
          },
          "yaxis": {
           "automargin": true,
           "gridcolor": "white",
           "linecolor": "white",
           "ticks": "",
           "title": {
            "standoff": 15
           },
           "zerolinecolor": "white",
           "zerolinewidth": 2
          }
         }
        },
        "title": {
         "text": "3D PCA Scatter of Hitters by Archetype"
        }
       }
      }
     },
     "metadata": {},
     "output_type": "display_data"
    }
   ],
   "source": [
    "# 3D PCA Scatter Plot with Updated Archetypes\n",
    "cluster_map = {\n",
    "    0: 'Contact Grinders',\n",
    "    1: 'Power-Contact Hitters',\n",
    "    2: 'Fly-Ball Sluggers'\n",
    "}\n",
    "pc_df['Archetype'] = pc_df['cluster'].map(cluster_map)\n",
    "\n",
    "# Sample up to 20 points per archetype\n",
    "sampled = (\n",
    "    pc_df.groupby('Archetype')\n",
    "         .apply(lambda grp: grp.sample(n=min(len(grp), 20), random_state= 2))\n",
    "         .reset_index(drop=True)\n",
    ")\n",
    "\n",
    "fig = px.scatter_3d(\n",
    "    sampled,\n",
    "    x='Power (PC1)', y='Quality Of Contact (PC2)', z='Swing Control (PC3)',\n",
    "    color='Archetype',\n",
    "    title='3D PCA Scatter of Hitters by Archetype',\n",
    "    labels={\n",
    "        'Power (PC1)':               'Slugging',\n",
    "        'Quality Of Contact (PC2)':  'Contact',\n",
    "        'Swing Control (PC3)':       'Swing Control',\n",
    "        'Archetype':                 'Hitter Archetype'\n",
    "    }\n",
    ")\n",
    "fig.show()\n"
   ]
  },
  {
   "cell_type": "code",
   "execution_count": null,
   "id": "40ef1488",
   "metadata": {},
   "outputs": [
    {
     "name": "stdout",
     "output_type": "stream",
     "text": [
      "Saved 676 players with archetypes to '../MLBDATA/Processed/BatterData/PlayerArchetypesClusters2016-2022NoCovid.csv'\n"
     ]
    },
    {
     "ename": "",
     "evalue": "",
     "output_type": "error",
     "traceback": [
      "\u001b[1;31mThe Kernel crashed while executing code in the current cell or a previous cell. \n",
      "\u001b[1;31mPlease review the code in the cell(s) to identify a possible cause of the failure. \n",
      "\u001b[1;31mClick <a href='https://aka.ms/vscodeJupyterKernelCrash'>here</a> for more info. \n",
      "\u001b[1;31mView Jupyter <a href='command:jupyter.viewOutput'>log</a> for further details."
     ]
    }
   ],
   "source": [
    "# Attach Archetype Labels & Export Player-Level Archetypes\n",
    "\n",
    "# Map numeric clusters to interpreted archetypes\n",
    "cluster_map = {\n",
    "    0: 'Contact & Speed Grinders',\n",
    "    1: 'Fly-Ball Sluggers',\n",
    "    2: 'Power-Contact Hitters'\n",
    "}\n",
    "player_feats['Archetype'] = player_feats['cluster'].map(cluster_map)\n",
    "\n",
    "# Reorder columns so identifiers and cluster info come first\n",
    "cols = ['player_id', 'last_name, first_name', 'cluster', 'Archetype'] + \\\n",
    "       [c for c in player_feats.columns if c not in ('player_id','last_name, first_name','cluster','Archetype')]\n",
    "player_archetypes = player_feats[cols]\n",
    "\n",
    "# Export to CSV\n",
    "output_file = \"../MLBDATA/Processed/BatterData/PlayerArchetypesClusters2016-2022NoCovid.csv\"\n",
    "player_archetypes.to_csv(output_file, index=False)\n",
    "print(f\"Saved {len(player_archetypes)} players with archetypes to '{output_file}'\")"
   ]
  }
 ],
 "metadata": {
  "kernelspec": {
   "display_name": ".venv",
   "language": "python",
   "name": "python3"
  },
  "language_info": {
   "codemirror_mode": {
    "name": "ipython",
    "version": 3
   },
   "file_extension": ".py",
   "mimetype": "text/x-python",
   "name": "python",
   "nbconvert_exporter": "python",
   "pygments_lexer": "ipython3",
   "version": "3.13.1"
  }
 },
 "nbformat": 4,
 "nbformat_minor": 5
}
