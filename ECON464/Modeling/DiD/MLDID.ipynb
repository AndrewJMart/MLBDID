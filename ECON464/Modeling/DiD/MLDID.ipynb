{
 "cells": [
  {
   "cell_type": "code",
   "execution_count": 10,
   "id": "5ec079a8",
   "metadata": {},
   "outputs": [],
   "source": [
    "import pandas as pd\n",
    "import numpy as np\n",
    "from sklearn.ensemble import RandomForestRegressor\n",
    "import matplotlib.pyplot as plt\n",
    "import statsmodels.formula.api as smf\n",
    "\n",
    "CLEANFILE = \"../../MLBDATA/Processed/BatterData/ModelingBattingData.csv\""
   ]
  },
  {
   "cell_type": "code",
   "execution_count": null,
   "id": "75f0b6e0",
   "metadata": {},
   "outputs": [
    {
     "name": "stdout",
     "output_type": "stream",
     "text": [
      "cluster\n",
      "0    0.008944\n",
      "1   -0.017091\n",
      "2    0.020602\n",
      "Name: ITE_OBP, dtype: float64\n"
     ]
    }
   ],
   "source": [
    "# 1) Load & prep\n",
    "df = pd.read_csv(r'C:\\Users\\Andrew\\Documents\\ECON464\\MLBDATA\\Processed\\BatterData\\ModelingBattingData.csv')\n",
    "df['LHB']     = (df['bat_side']=='L').astype(int)\n",
    "df['PostBan'] = (df['year']>=2023).astype(int)\n",
    "df['T']       = df['LHB'] * df['PostBan']     # treatment indicator\n",
    "\n",
    "# 2) Features & outcome\n",
    "features = ['cluster','year']                  # plus any others you like\n",
    "X = pd.get_dummies(df[features], drop_first=True)\n",
    "Y = df['on_base_percent']\n",
    "T = df['T']\n",
    "\n",
    "# 3) Fit two forests\n",
    "rf_treat   = RandomForestRegressor(n_estimators=200, min_samples_leaf=50)\n",
    "rf_control = RandomForestRegressor(n_estimators=200, min_samples_leaf=50)\n",
    "\n",
    "rf_treat.  fit(X[T==1], Y[T==1])\n",
    "rf_control.fit(X[T==0], Y[T==0])\n",
    "\n",
    "# 4) Predict ITE = E[Y|T=1,X] − E[Y|T=0,X]\n",
    "df['ITE_OBP'] = rf_treat.predict(X) - rf_control.predict(X)\n",
    "\n",
    "# 5) Summarize by cluster\n",
    "print(df.groupby('cluster')['ITE_OBP'].mean())\n"
   ]
  },
  {
   "cell_type": "code",
   "execution_count": 13,
   "id": "c982917f",
   "metadata": {},
   "outputs": [
    {
     "name": "stdout",
     "output_type": "stream",
     "text": [
      "cluster\n",
      "0   -0.012355\n",
      "1   -0.014075\n",
      "2    0.010024\n",
      "Name: ITE_BABIP, dtype: float64\n"
     ]
    }
   ],
   "source": [
    "# 1) Load & prep\n",
    "df = pd.read_csv(r'C:\\Users\\Andrew\\Documents\\ECON464\\MLBDATA\\Processed\\BatterData\\ModelingBattingData.csv')\n",
    "df['LHB']     = (df['bat_side']=='L').astype(int)\n",
    "df['PostBan'] = (df['year']>=2023).astype(int)\n",
    "df['T']       = df['LHB'] * df['PostBan']     # treatment indicator\n",
    "\n",
    "# 2) Features & outcome\n",
    "features = ['cluster','year']                  # plus any others you like\n",
    "X = pd.get_dummies(df[features], drop_first=True)\n",
    "Y = df['babip']\n",
    "T = df['T']\n",
    "\n",
    "# 3) Fit two forests\n",
    "rf_treat   = RandomForestRegressor(n_estimators=200, min_samples_leaf=50)\n",
    "rf_control = RandomForestRegressor(n_estimators=200, min_samples_leaf=50)\n",
    "\n",
    "rf_treat.  fit(X[T==1], Y[T==1])\n",
    "rf_control.fit(X[T==0], Y[T==0])\n",
    "\n",
    "# 4) Predict ITE = E[Y|T=1,X] − E[Y|T=0,X]\n",
    "df['ITE_BABIP'] = rf_treat.predict(X) - rf_control.predict(X)\n",
    "\n",
    "# 5) Summarize by cluster\n",
    "print(df.groupby('cluster')['ITE_BABIP'].mean())"
   ]
  },
  {
   "cell_type": "code",
   "execution_count": 16,
   "id": "c44912bc",
   "metadata": {},
   "outputs": [
    {
     "name": "stdout",
     "output_type": "stream",
     "text": [
      "Average ITE_OBP by cluster:\n",
      "cluster\n",
      "0    0.008406\n",
      "1   -0.017382\n",
      "2    0.021023\n",
      "Name: ITE_OBP, dtype: float64 \n",
      "\n",
      "Average ITE_OBP by cluster and extreme_shift:\n",
      "extreme_shift         0         1\n",
      "cluster                          \n",
      "0              0.008399  0.008863\n",
      "1             -0.017275 -0.017965\n",
      "2              0.020826  0.021887\n"
     ]
    }
   ],
   "source": [
    "# 1) Load & prep\n",
    "df = pd.read_csv(r'C:\\Users\\Andrew\\Documents\\ECON464\\MLBDATA\\Processed\\BatterData\\ModelingBattingData.csv')\n",
    "df['LHB']       = (df['bat_side'] == 'L').astype(int)\n",
    "df['PostBan']   = (df['year']    >= 2023).astype(int)\n",
    "df['T']         = df['LHB'] * df['PostBan']     # treatment indicator\n",
    "\n",
    "# 3) Build feature matrix & outcome\n",
    "features = ['cluster', 'year']\n",
    "X_base   = pd.get_dummies(df[features], drop_first=True)\n",
    "X        = X_base.copy()\n",
    "X['extreme_shift'] = df['extreme_shift']      # add the new flag\n",
    "Y        = df['on_base_percent']              # continuous OBP outcome\n",
    "T        = df['T']\n",
    "\n",
    "# 4) Fit two RandomForestRegressors (T‐learner)\n",
    "rf_treat   = RandomForestRegressor(n_estimators=200, min_samples_leaf=50, random_state=42)\n",
    "rf_control = RandomForestRegressor(n_estimators=200, min_samples_leaf=50, random_state=42)\n",
    "\n",
    "rf_treat .fit(X[T==1], Y[T==1])\n",
    "rf_control.fit(X[T==0], Y[T==0])\n",
    "\n",
    "# 5) Compute Individual Treatment Effects (ITE)\n",
    "df['ITE_OBP'] = rf_treat .predict(X) - rf_control.predict(X)\n",
    "\n",
    "# 6) Summarize average uplift by cluster\n",
    "print(\"Average ITE_OBP by cluster:\")\n",
    "print(df.groupby('cluster')['ITE_OBP'].mean(), \"\\n\")\n",
    "\n",
    "# 7) Summarize by cluster AND extreme_shift status\n",
    "print(\"Average ITE_OBP by cluster and extreme_shift:\")\n",
    "print(df.groupby(['cluster','extreme_shift'])['ITE_OBP'].mean().unstack())\n",
    "\n",
    "# (Optional) Repeat for BABIP:\n",
    "# df['ITE_BABIP'] = rf_treat_for_babip.predict(X) - rf_control_for_babip.predict(X)\n",
    "# print(df.groupby('cluster')['ITE_BABIP'].mean())"
   ]
  }
 ],
 "metadata": {
  "kernelspec": {
   "display_name": ".venv",
   "language": "python",
   "name": "python3"
  },
  "language_info": {
   "codemirror_mode": {
    "name": "ipython",
    "version": 3
   },
   "file_extension": ".py",
   "mimetype": "text/x-python",
   "name": "python",
   "nbconvert_exporter": "python",
   "pygments_lexer": "ipython3",
   "version": "3.13.1"
  }
 },
 "nbformat": 4,
 "nbformat_minor": 5
}
